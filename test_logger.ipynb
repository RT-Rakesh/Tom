{
 "cells": [
  {
   "cell_type": "code",
   "id": "initial_id",
   "metadata": {
    "collapsed": true,
    "ExecuteTime": {
     "end_time": "2024-07-26T22:38:26.357458Z",
     "start_time": "2024-07-26T22:38:26.346478Z"
    }
   },
   "source": [
    "from Logger.Logger import App_Logger\n",
    "from Logger.log_adapters import FileLogAdapter, ConsoleLogAdapter"
   ],
   "outputs": [],
   "execution_count": 1
  },
  {
   "metadata": {
    "ExecuteTime": {
     "end_time": "2024-07-26T22:38:27.272129Z",
     "start_time": "2024-07-26T22:38:27.269074Z"
    }
   },
   "cell_type": "code",
   "source": "logger=App_Logger(adapter=FileLogAdapter(filename='File_Log.txt'))",
   "id": "f44f9ac4d28aea99",
   "outputs": [],
   "execution_count": 2
  },
  {
   "metadata": {
    "ExecuteTime": {
     "end_time": "2024-07-26T22:38:28.313406Z",
     "start_time": "2024-07-26T22:38:28.305951Z"
    }
   },
   "cell_type": "code",
   "source": [
    "logger.log_message('INFO','Hello World')\n",
    "logger.log_message('FATAL','Hello World')"
   ],
   "id": "90c9a1d1dec5108f",
   "outputs": [],
   "execution_count": 3
  },
  {
   "metadata": {
    "ExecuteTime": {
     "end_time": "2024-07-26T22:38:29.233785Z",
     "start_time": "2024-07-26T22:38:29.230149Z"
    }
   },
   "cell_type": "code",
   "source": "logger.log_message('DEBUG','Hello World')",
   "id": "c7680784fe22a9e7",
   "outputs": [],
   "execution_count": 4
  },
  {
   "metadata": {
    "ExecuteTime": {
     "end_time": "2024-07-26T22:38:32.684774Z",
     "start_time": "2024-07-26T22:38:32.680884Z"
    }
   },
   "cell_type": "code",
   "source": [
    "logger2=App_Logger(adapter=ConsoleLogAdapter())\n",
    "logger2.log_message('INFO','Hello World')\n",
    "logger2.log_message('FATAL','Hello World')"
   ],
   "id": "392784ddd04ffe8a",
   "outputs": [
    {
     "name": "stdout",
     "output_type": "stream",
     "text": [
      "Warning!!!! Loading the existing logger.\n",
      "INFO: Hello World\n",
      "FATAL: Hello World\n"
     ]
    }
   ],
   "execution_count": 5
  },
  {
   "metadata": {},
   "cell_type": "code",
   "outputs": [],
   "execution_count": null,
   "source": "",
   "id": "b9fbab3bd895399f"
  }
 ],
 "metadata": {
  "kernelspec": {
   "display_name": "Python 3",
   "language": "python",
   "name": "python3"
  },
  "language_info": {
   "codemirror_mode": {
    "name": "ipython",
    "version": 2
   },
   "file_extension": ".py",
   "mimetype": "text/x-python",
   "name": "python",
   "nbconvert_exporter": "python",
   "pygments_lexer": "ipython2",
   "version": "2.7.6"
  }
 },
 "nbformat": 4,
 "nbformat_minor": 5
}
